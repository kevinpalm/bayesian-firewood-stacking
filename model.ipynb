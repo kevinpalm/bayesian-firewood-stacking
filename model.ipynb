{
 "cells": [
  {
   "cell_type": "code",
   "execution_count": 1,
   "metadata": {},
   "outputs": [],
   "source": [
    "import pandas as pd\n",
    "import numpy as np\n",
    "import pystan"
   ]
  },
  {
   "cell_type": "code",
   "execution_count": 2,
   "metadata": {},
   "outputs": [
    {
     "name": "stderr",
     "output_type": "stream",
     "text": [
      "INFO:pystan:COMPILING THE C++ CODE FOR MODEL anon_model_ea83cc44d3204fc9828c6df446b59bb0 NOW.\n"
     ]
    }
   ],
   "source": [
    "firewood_code = \"\"\"\n",
    "\n",
    "data {\n",
    "    // samples per row by species\n",
    "    int<lower=0> totals1[3];\n",
    "    int<lower=0> totals2[3];\n",
    "    int<lower=0> totals3[3];\n",
    "    int<lower=0> totals4[3];\n",
    "    \n",
    "    // ready to burn samples per row by species\n",
    "    int<lower=0> burnables1[3];\n",
    "    int<lower=0> burnables2[3];\n",
    "    int<lower=0> burnables3[3];\n",
    "    int<lower=0> burnables4[3];\n",
    "}\n",
    "\n",
    "parameters {\n",
    "    // probabilities per row of each species\n",
    "    vector<lower=0.0, upper=1.0>[3] p_species1;\n",
    "    vector<lower=0.0, upper=1.0>[3] p_species2;\n",
    "    vector<lower=0.0, upper=1.0>[3] p_species3;\n",
    "    vector<lower=0.0, upper=1.0>[3] p_species4;\n",
    "    \n",
    "    // probabilities per row per species of burnable\n",
    "    vector<lower=0.0, upper=1.0>[3] p_burnable1;\n",
    "    vector<lower=0.0, upper=1.0>[3] p_burnable2;\n",
    "    vector<lower=0.0, upper=1.0>[3] p_burnable3;\n",
    "    vector<lower=0.0, upper=1.0>[3] p_burnable4;\n",
    "}\n",
    "\n",
    "model {\n",
    "    // row 1 samples by species\n",
    "    p_species1[1] ~ beta(5, 5); // row 1 alder prior\n",
    "    p_species1[2] ~ beta(2, 8); // row 1 birch prior\n",
    "    p_species1[3] ~ beta(3, 7); // row 1 pine prior\n",
    "    totals1 ~ multinomial(softmax(p_species1));\n",
    "    \n",
    "    // row 2 samples by species\n",
    "    p_species2[1] ~ beta(7, 3); // row 2 alder prior\n",
    "    p_species2[2] ~ beta(2, 8); // row 2 birch prior\n",
    "    p_species2[3] ~ beta(1, 9); // row 2 pine prior\n",
    "    totals2 ~ multinomial(softmax(p_species2));\n",
    "    \n",
    "    // row 3 samples by species\n",
    "    p_species3[1] ~ beta(15, 5); // row 3 alder prior\n",
    "    p_species3[2] ~ beta(4, 16); // row 3 birch prior\n",
    "    p_species3[3] ~ beta(1, 19); // row 3 pine prior\n",
    "    totals3 ~ multinomial(softmax(p_species3));\n",
    "    \n",
    "    // row 4 samples by species\n",
    "    p_species4[1] ~ beta(15, 5); // row 4 alder prior\n",
    "    p_species4[2] ~ beta(4, 16); // row 4 birch prior\n",
    "    p_species4[3] ~ beta(1, 19); // row 4 pine prior\n",
    "    totals4 ~ multinomial(softmax(p_species4));\n",
    "    \n",
    "    // separate binomial distributions per row per species for number of burnable logs\n",
    "    for (i in 1:3) {\n",
    "        burnables1[i] ~ binomial(totals1[i], p_burnable1[i]);\n",
    "        burnables2[i] ~ binomial(totals2[i], p_burnable2[i]);\n",
    "        burnables3[i] ~ binomial(totals3[i], p_burnable3[i]);\n",
    "        burnables4[i] ~ binomial(totals4[i], p_burnable4[i]);\n",
    "    }\n",
    "}\n",
    "\n",
    "generated quantities {\n",
    "    vector[3] percent_species;\n",
    "    vector[3] percent_burnable;\n",
    "    real total_percent_burnable;\n",
    "    real estimated_BTUs;\n",
    "    real days_of_fuel;\n",
    "    \n",
    "    percent_species = (softmax(p_species1) + softmax(p_species2) + softmax(p_species3) + softmax(p_species4))/4;\\\n",
    "    \n",
    "    for (i in 1:3) {\n",
    "        percent_burnable[i] = (softmax(p_species1)[i]*p_burnable1[i] + softmax(p_species2)[i]*p_burnable2[i] + softmax(p_species3)[i]*p_burnable3[i] + softmax(p_species4)[i]*p_burnable4[i])/4;\n",
    "    }\n",
    "    total_percent_burnable = sum(percent_burnable);\n",
    "    \n",
    "    estimated_BTUs = (percent_burnable[1]*19000000 + percent_burnable[2]*23600000 + percent_burnable[3]*20500000)*1.124;\n",
    "    days_of_fuel = estimated_BTUs/250000*0.77;\n",
    "    \n",
    "}\n",
    "\"\"\"\n",
    "\n",
    "firewood_model = pystan.StanModel(model_code=firewood_code)"
   ]
  },
  {
   "cell_type": "code",
   "execution_count": 3,
   "metadata": {},
   "outputs": [
    {
     "data": {
      "text/plain": [
       "Inference for Stan model: anon_model_ea83cc44d3204fc9828c6df446b59bb0.\n",
       "4 chains, each with iter=100000; warmup=5000; thin=1; \n",
       "post-warmup draws per chain=95000, total post-warmup draws=380000.\n",
       "\n",
       "                         mean se_mean     sd   2.5%    25%    50%    75%  97.5%  n_eff   Rhat\n",
       "percent_species[1]       0.47  2.2e-5   0.02   0.43   0.46   0.47   0.48    0.5 503787    1.0\n",
       "percent_species[2]       0.28  1.8e-5   0.01   0.26   0.27   0.28   0.29   0.31 507542    1.0\n",
       "percent_species[3]       0.25  1.5e-5   0.01   0.23   0.25   0.25   0.26   0.28 502469    1.0\n",
       "total_percent_burnable   0.44  7.2e-5   0.05   0.34    0.4   0.44   0.47   0.54 488654    1.0\n",
       "days_of_fuel            30.47  5.1e-3   3.57  23.61  28.01  30.43  32.87  37.56 491110    1.0\n",
       "lp__                   -207.0  9.8e-3    3.8 -215.4 -209.4 -206.7 -204.3 -200.7 151293    1.0\n",
       "\n",
       "Samples were drawn using NUTS at Sun Nov 29 12:45:20 2020.\n",
       "For each parameter, n_eff is a crude measure of effective sample size,\n",
       "and Rhat is the potential scale reduction factor on split chains (at \n",
       "convergence, Rhat=1)."
      ]
     },
     "execution_count": 3,
     "metadata": {},
     "output_type": "execute_result"
    }
   ],
   "source": [
    "# total count per each species\n",
    "df = pd.read_csv('firewood.csv')\n",
    "df['row'] = 'totals' + df['row'].astype(str)\n",
    "firewood_data = pd.pivot_table(df, index='species', columns='row', aggfunc='count').fillna(0).astype(int).droplevel(0, axis=1).to_dict(orient='list')\n",
    "\n",
    "# burnable counts per each species\n",
    "df = pd.read_csv('firewood.csv')\n",
    "df['row'] = 'burnables' + df['row'].astype(str)\n",
    "df.loc[(df['moisture'] <= 0.2) | ((df['moisture'] <= 0.23) & (df['species'] == 'alder')), 'n'] = 1\n",
    "firewood_data.update(pd.pivot_table(df, index='species', columns='row', values='n', aggfunc=np.sum).fillna(0).astype(int).to_dict(orient='list'))\n",
    "\n",
    "# run model\n",
    "firewood_model.sampling(data=firewood_data, pars=['percent_species', 'total_percent_burnable', 'days_of_fuel'], chains=4, iter=100000, warmup=5000)"
   ]
  },
  {
   "cell_type": "code",
   "execution_count": null,
   "metadata": {},
   "outputs": [],
   "source": []
  }
 ],
 "metadata": {
  "kernelspec": {
   "display_name": "Python 3",
   "language": "python",
   "name": "python3"
  },
  "language_info": {
   "codemirror_mode": {
    "name": "ipython",
    "version": 3
   },
   "file_extension": ".py",
   "mimetype": "text/x-python",
   "name": "python",
   "nbconvert_exporter": "python",
   "pygments_lexer": "ipython3",
   "version": "3.6.9"
  }
 },
 "nbformat": 4,
 "nbformat_minor": 2
}
