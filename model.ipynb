{
 "cells": [
  {
   "cell_type": "code",
   "execution_count": 17,
   "metadata": {},
   "outputs": [],
   "source": [
    "import pandas as pd\n",
    "import pystan"
   ]
  },
  {
   "cell_type": "code",
   "execution_count": 16,
   "metadata": {},
   "outputs": [
    {
     "name": "stderr",
     "output_type": "stream",
     "text": [
      "INFO:pystan:COMPILING THE C++ CODE FOR MODEL anon_model_a1d3d35bdebce0a10713daab5ca8333f NOW.\n"
     ]
    }
   ],
   "source": [
    "firewood_code = \"\"\"\n",
    "\n",
    "data {\n",
    "    # samples per row by species\n",
    "    int totals1[3];\n",
    "    int totals2[3];\n",
    "    int totals3[3];\n",
    "    int totals4[3];\n",
    "}\n",
    "\n",
    "parameters {\n",
    "    # probabilities per row of each species\n",
    "    vector[3] p_species1;\n",
    "    vector[3] p_species2;\n",
    "    vector[3] p_species3;\n",
    "    vector[3] p_species4; \n",
    "}\n",
    "\n",
    "model {\n",
    "    # row 1 samples by species\n",
    "    p_species1[1] ~ beta(5, 5); # row 1 alder prior\n",
    "    p_species1[2] ~ beta(2, 8); # row 1 birch prior\n",
    "    p_species1[3] ~ beta(3, 7); # row 1 pine prior\n",
    "    totals1 ~ multinomial(softmax(p_species1));\n",
    "    \n",
    "    # row 2 samples by species\n",
    "    p_species2[1] ~ beta(7, 3); # row 2 alder prior\n",
    "    p_species2[2] ~ beta(2, 8); # row 2 birch prior\n",
    "    p_species2[3] ~ beta(1, 9); # row 2 pine prior\n",
    "    totals2 ~ multinomial(softmax(p_species2));\n",
    "    \n",
    "    # row 3 samples by species\n",
    "    p_species3[1] ~ beta(15, 5); # row 3 alder prior\n",
    "    p_species3[2] ~ beta(4, 16); # row 3 birch prior\n",
    "    p_species3[3] ~ beta(1, 19); # row 3 pine prior\n",
    "    totals3 ~ multinomial(softmax(p_species3));\n",
    "    \n",
    "    # row 4 samples by species\n",
    "    p_species4[1] ~ beta(15, 5); # row 4 alder prior\n",
    "    p_species4[2] ~ beta(4, 16); # row 4 birch prior\n",
    "    p_species4[3] ~ beta(1, 19); # row 4 pine prior\n",
    "    totals4 ~ multinomial(softmax(p_species4));\n",
    "}\n",
    "\"\"\"\n",
    "firewood_model = pystan.StanModel(model_code=firewood_code)"
   ]
  },
  {
   "cell_type": "code",
   "execution_count": null,
   "metadata": {},
   "outputs": [],
   "source": []
  }
 ],
 "metadata": {
  "kernelspec": {
   "display_name": "Python 3",
   "language": "python",
   "name": "python3"
  },
  "language_info": {
   "codemirror_mode": {
    "name": "ipython",
    "version": 3
   },
   "file_extension": ".py",
   "mimetype": "text/x-python",
   "name": "python",
   "nbconvert_exporter": "python",
   "pygments_lexer": "ipython3",
   "version": "3.6.9"
  }
 },
 "nbformat": 4,
 "nbformat_minor": 2
}
